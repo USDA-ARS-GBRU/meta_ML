{
 "cells": [
  {
   "cell_type": "code",
   "execution_count": null,
   "metadata": {},
   "outputs": [],
   "source": [
    "output_layer = decoder(latent_layer)\n",
    "autoencoder = keras.Model(inputs=input_layer, outputs=output_layer, name='autoencoder')\n"
   ]
  }
 ],
 "metadata": {
  "language_info": {
   "name": "python"
  },
  "orig_nbformat": 4
 },
 "nbformat": 4,
 "nbformat_minor": 2
}
