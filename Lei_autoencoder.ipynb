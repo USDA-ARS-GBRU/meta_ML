{
 "cells": [
  {
   "cell_type": "code",
   "execution_count": 6,
   "metadata": {},
   "outputs": [],
   "source": [
    "import tensorflow as tf\n",
    "import tensorflow.keras as keras\n",
    "from tensorflow.keras import layers\n",
    "import pandas as pd"
   ]
  },
  {
   "cell_type": "code",
   "execution_count": 20,
   "metadata": {},
   "outputs": [
    {
     "name": "stdout",
     "output_type": "stream",
     "text": [
      "Model: \"encoder\"\n",
      "_________________________________________________________________\n",
      " Layer (type)                Output Shape              Param #   \n",
      "=================================================================\n",
      " encoder_128 (Dense)         (None, 128)               91904     \n",
      "                                                                 \n",
      " encoder_64 (Dense)          (None, 64)                8256      \n",
      "                                                                 \n",
      " latent (Dense)              (None, 10)                650       \n",
      "                                                                 \n",
      "=================================================================\n",
      "Total params: 100,810\n",
      "Trainable params: 100,810\n",
      "Non-trainable params: 0\n",
      "_________________________________________________________________\n"
     ]
    }
   ],
   "source": [
    "otu_size = 717\n",
    "latent_size = 10\n",
    "hidden_layers = [128, 64]\n",
    "encoder = keras.Sequential(name = 'encoder')\n",
    "encoder.add(layers.Input(otu_size, name = 'otu_input'))\n",
    "for size in hidden_layers:\n",
    "    encoder.add(layers.Dense(size, activation=layers.ReLU(), name = 'encoder_{}'.format(size)))\n",
    "encoder.add(layers.Dense(latent_size, name = 'latent'))\n",
    "encoder.build()\n",
    "encoder.summary()"
   ]
  },
  {
   "cell_type": "code",
   "execution_count": 21,
   "metadata": {},
   "outputs": [
    {
     "name": "stdout",
     "output_type": "stream",
     "text": [
      "Model: \"decoder\"\n",
      "_________________________________________________________________\n",
      " Layer (type)                Output Shape              Param #   \n",
      "=================================================================\n",
      " decoder_64 (Dense)          (None, 64)                704       \n",
      "                                                                 \n",
      " decoder_128 (Dense)         (None, 128)               8320      \n",
      "                                                                 \n",
      " decoder_output (Dense)      (None, 717)               92493     \n",
      "                                                                 \n",
      "=================================================================\n",
      "Total params: 101,517\n",
      "Trainable params: 101,517\n",
      "Non-trainable params: 0\n",
      "_________________________________________________________________\n"
     ]
    }
   ],
   "source": [
    "decoder = keras.Sequential(name = 'decoder')\n",
    "decoder.add(layers.Input(latent_size, name = 'decoder_input'))\n",
    "for size in reversed(hidden_layers):\n",
    "    decoder.add(layers.Dense(size, activation = layers.ReLU(), name = 'decoder_{}'.format(size)))\n",
    "decoder.add(layers.Dense(otu_size, name = 'decoder_output'))\n",
    "decoder.build()\n",
    "decoder.summary()"
   ]
  },
  {
   "cell_type": "code",
   "execution_count": null,
   "metadata": {},
   "outputs": [],
   "source": [
    "model = keras.Model(inputs=layers.Input(otu_size, name = 'otu_input'),\n",
    "                            outputs=layers.Dense(otu_size, name = 'decoder_output'),\n",
    "                            name='model')"
   ]
  }
 ],
 "metadata": {
  "kernelspec": {
   "display_name": "tensorflow",
   "language": "python",
   "name": "tf"
  },
  "language_info": {
   "codemirror_mode": {
    "name": "ipython",
    "version": 3
   },
   "file_extension": ".py",
   "mimetype": "text/x-python",
   "name": "python",
   "nbconvert_exporter": "python",
   "pygments_lexer": "ipython3",
   "version": "3.9.15"
  },
  "orig_nbformat": 4
 },
 "nbformat": 4,
 "nbformat_minor": 2
}
