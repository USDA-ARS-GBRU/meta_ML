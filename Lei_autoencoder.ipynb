{
 "cells": [
  {
   "cell_type": "code",
   "execution_count": 2,
   "metadata": {},
   "outputs": [],
   "source": [
    "import tensorflow as tf\n",
    "import tensorflow.keras as keras\n",
    "from tensorflow.keras import layers"
   ]
  },
  {
   "cell_type": "code",
   "execution_count": 29,
   "metadata": {},
   "outputs": [],
   "source": [
    "import sys\n",
    "sys.path.append('DeepLatentMicrobiome/Src/')\n",
    "from layers import *"
   ]
  },
  {
   "cell_type": "code",
   "execution_count": 25,
   "metadata": {},
   "outputs": [],
   "source": [
    "otu_size = 717\n",
    "latent_size = 10\n",
    "hidden_layers = [128, 64]\n",
    "encoder = keras.Sequential([\n",
    "    layers.Dense(128, activation = layers.ReLU()),\n",
    "    layers.Dense(64, activation = layers.ReLU()),\n",
    "    layers.Dense(10, activation = 'tanh')\n",
    "])\n",
    "decoder = keras.Sequential([\n",
    "    layers.Dense(64, input_shape = (10,), activation = layers.ReLU()),\n",
    "    layers.Dense(128, activation = layers.ReLU()),\n",
    "    layers.Dense(717, activation = 'tanh')\n",
    "])\n",
    "input_layer = layers.Input(shape = (otu_size,))\n",
    "latent_vector = encoder(input_layer)\n",
    "output = decoder(latent_vector)\n"
   ]
  },
  {
   "cell_type": "code",
   "execution_count": 27,
   "metadata": {},
   "outputs": [
    {
     "name": "stdout",
     "output_type": "stream",
     "text": [
      "Model: \"model_5\"\n",
      "_________________________________________________________________\n",
      " Layer (type)                Output Shape              Param #   \n",
      "=================================================================\n",
      " input_2 (InputLayer)        [(None, 717)]             0         \n",
      "                                                                 \n",
      " sequential_4 (Sequential)   (None, 10)                100810    \n",
      "                                                                 \n",
      " sequential_5 (Sequential)   (None, 717)               101517    \n",
      "                                                                 \n",
      "=================================================================\n",
      "Total params: 202,327\n",
      "Trainable params: 202,327\n",
      "Non-trainable params: 0\n",
      "_________________________________________________________________\n"
     ]
    }
   ],
   "source": [
    "model = keras.Model(inputs = input_layer, outputs = output)\n",
    "model.compile(\"nadam\", loss = \"binary_crossentropy\")\n",
    "model.summary()"
   ]
  },
  {
   "cell_type": "code",
   "execution_count": null,
   "metadata": {},
   "outputs": [],
   "source": []
  }
 ],
 "metadata": {
  "kernelspec": {
   "display_name": "tensorflow",
   "language": "python",
   "name": "tf"
  },
  "language_info": {
   "codemirror_mode": {
    "name": "ipython",
    "version": 3
   },
   "file_extension": ".py",
   "mimetype": "text/x-python",
   "name": "python",
   "nbconvert_exporter": "python",
   "pygments_lexer": "ipython3",
   "version": "3.9.15"
  },
  "orig_nbformat": 4
 },
 "nbformat": 4,
 "nbformat_minor": 2
}
