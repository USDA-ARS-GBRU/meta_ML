{
 "cells": [
  {
   "cell_type": "markdown",
   "metadata": {},
   "source": [
    "Recap:\n",
    "\n",
    "Recreating the autoencoder from the paper using the same shape\n",
    "- We wanted to return the model, encoder and decoder, and latent layer\n",
    "- Create layers in an encoder\n",
    "- Create layers in a decoder\n",
    "\n",
    "Loss function issues\n",
    "- Added ReLU activation function in each layer\n",
    "- Adding braycurtis loss function with percentage during autoencoder compilation. Used custom loss function from authors.\n",
    "\n"
   ]
  }
 ],
 "metadata": {
  "language_info": {
   "name": "python"
  },
  "orig_nbformat": 4
 },
 "nbformat": 4,
 "nbformat_minor": 2
}
